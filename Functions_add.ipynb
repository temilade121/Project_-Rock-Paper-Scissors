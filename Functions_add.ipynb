{
 "cells": [
  {
   "cell_type": "code",
   "execution_count": 5,
   "id": "f9649072",
   "metadata": {},
   "outputs": [
    {
     "name": "stdout",
     "output_type": "stream",
     "text": [
      "Hello world, Welcome to Function class\n"
     ]
    }
   ],
   "source": [
    "def Welcome_Function():\n",
    "    print(\"Hello world, Welcome to Function class\")\n",
    "Welcome_Function()"
   ]
  },
  {
   "cell_type": "code",
   "execution_count": 7,
   "id": "6a95277a",
   "metadata": {},
   "outputs": [],
   "source": [
    "def Python_Class():\n",
    "    pass"
   ]
  },
  {
   "cell_type": "code",
   "execution_count": 11,
   "id": "776ab7f6",
   "metadata": {},
   "outputs": [
    {
     "name": "stdout",
     "output_type": "stream",
     "text": [
      "I want to learn to code!\n",
      "I want to learn to do AI!\n"
     ]
    }
   ],
   "source": [
    "def my_Function(parameter):\n",
    "    print(\"I want to learn \"+parameter)\n",
    "my_Function(\"to code!\")\n",
    "my_Function(\"to do AI!\")"
   ]
  },
  {
   "cell_type": "code",
   "execution_count": 14,
   "id": "ac822a59",
   "metadata": {},
   "outputs": [
    {
     "name": "stdout",
     "output_type": "stream",
     "text": [
      "My name is Joshua\n"
     ]
    }
   ],
   "source": [
    "def print_name(name):\n",
    "    print(\"My name is \"+name)\n",
    "print_name(\"Joshua\")\n",
    "    "
   ]
  },
  {
   "cell_type": "code",
   "execution_count": 15,
   "id": "f5ddeada",
   "metadata": {},
   "outputs": [
    {
     "name": "stdout",
     "output_type": "stream",
     "text": [
      "5\n"
     ]
    }
   ],
   "source": [
    "def add_two(a,b):\n",
    "    print(a+b)\n",
    "add_two(2,3) #Functions that adds numbers "
   ]
  },
  {
   "cell_type": "code",
   "execution_count": 16,
   "id": "1ce1e748",
   "metadata": {},
   "outputs": [
    {
     "name": "stdout",
     "output_type": "stream",
     "text": [
      "-20\n"
     ]
    }
   ],
   "source": [
    "def Subtract_two(a,b):\n",
    "    print(a-b)\n",
    "Subtract_two(3,23) #Functions that subtract numbers"
   ]
  },
  {
   "cell_type": "code",
   "execution_count": 17,
   "id": "77a916a3",
   "metadata": {
    "scrolled": true
   },
   "outputs": [
    {
     "name": "stdout",
     "output_type": "stream",
     "text": [
      "4.0\n"
     ]
    }
   ],
   "source": [
    "def Divide_two(a,b):\n",
    "    print(a/b)\n",
    "Divide_two(20,5) #Functions that divides numbers"
   ]
  },
  {
   "cell_type": "code",
   "execution_count": 18,
   "id": "b7f5ce35",
   "metadata": {},
   "outputs": [
    {
     "name": "stdout",
     "output_type": "stream",
     "text": [
      "360000\n"
     ]
    }
   ],
   "source": [
    "def Multiply_two(a,b):\n",
    "    print(a*b)\n",
    "Multiply_two(50,7200) #Functions that multiplies numbers"
   ]
  },
  {
   "cell_type": "code",
   "execution_count": 20,
   "id": "4fa83d90",
   "metadata": {},
   "outputs": [
    {
     "name": "stdout",
     "output_type": "stream",
     "text": [
      "16\n"
     ]
    }
   ],
   "source": [
    "def operation(x,y,z):\n",
    "    print((x+y)*z)\n",
    "operation(5,3,2)"
   ]
  },
  {
   "cell_type": "code",
   "execution_count": 21,
   "id": "a0b63d3c",
   "metadata": {
    "collapsed": true
   },
   "outputs": [
    {
     "name": "stdout",
     "output_type": "stream",
     "text": [
      "4\n"
     ]
    }
   ],
   "source": [
    "def length(liste):\n",
    "    s=0\n",
    "    for i in liste:\n",
    "        s+=1\n",
    "    return(s)\n",
    "a = (1,2,3,4)\n",
    "print(length(a))"
   ]
  },
  {
   "cell_type": "code",
   "execution_count": 26,
   "id": "52e98a59",
   "metadata": {},
   "outputs": [
    {
     "name": "stdout",
     "output_type": "stream",
     "text": [
      "2\n"
     ]
    }
   ],
   "source": [
    "\n",
    "b = (1,2)\n",
    "print(length(b))"
   ]
  },
  {
   "cell_type": "code",
   "execution_count": 27,
   "id": "30a67791",
   "metadata": {},
   "outputs": [
    {
     "name": "stdout",
     "output_type": "stream",
     "text": [
      "5\n"
     ]
    }
   ],
   "source": [
    "c = ('Hello')\n",
    "print(length(c))"
   ]
  },
  {
   "cell_type": "code",
   "execution_count": 32,
   "id": "a505e0de",
   "metadata": {},
   "outputs": [
    {
     "name": "stdout",
     "output_type": "stream",
     "text": [
      "I am from Marco\n",
      "I am from Algeria\n",
      "I am from Tunisia\n"
     ]
    }
   ],
   "source": [
    "def my_function(Country =\"Tunisia\"):\n",
    "    print(\"I am from \"+Country)\n",
    "my_function(\"Marco\")\n",
    "my_function(\"Algeria\")\n",
    "my_function()"
   ]
  },
  {
   "cell_type": "code",
   "execution_count": 8,
   "id": "d864506e",
   "metadata": {},
   "outputs": [
    {
     "name": "stdout",
     "output_type": "stream",
     "text": [
      "2\n"
     ]
    }
   ],
   "source": [
    "def minimum(a,b):\n",
    "    if a<b:\n",
    "        return(a)\n",
    "    else:\n",
    "        return(b)\n",
    "min = minimum(10,2)\n",
    "print(min)"
   ]
  },
  {
   "cell_type": "code",
   "execution_count": 2,
   "id": "436bc97e",
   "metadata": {},
   "outputs": [
    {
     "name": "stdout",
     "output_type": "stream",
     "text": [
      "11\n"
     ]
    }
   ],
   "source": [
    "sum = lambda a,b,c : a+b+c\n",
    "print(sum(2,6,3))"
   ]
  },
  {
   "cell_type": "code",
   "execution_count": 3,
   "id": "cce48d34",
   "metadata": {},
   "outputs": [
    {
     "name": "stdout",
     "output_type": "stream",
     "text": [
      "2020\n"
     ]
    }
   ],
   "source": [
    "year = lambda ch : ch[:4]\n",
    "ch = \"20200310\"\n",
    "print(year(ch))"
   ]
  },
  {
   "cell_type": "code",
   "execution_count": 13,
   "id": "e48da85c",
   "metadata": {},
   "outputs": [
    {
     "name": "stdout",
     "output_type": "stream",
     "text": [
      "[4, 4, 4]\n"
     ]
    }
   ],
   "source": [
    "Tuple1=(1,2,3)\n",
    "Tuple2=(3,2,1)\n",
    "result=list(map(lambda x,y:x+y,Tuple1,Tuple2))\n",
    "print(result)"
   ]
  },
  {
   "cell_type": "code",
   "execution_count": 14,
   "id": "91390d4e",
   "metadata": {},
   "outputs": [
    {
     "name": "stdout",
     "output_type": "stream",
     "text": [
      "[4, 4, 4]\n"
     ]
    }
   ],
   "source": [
    "def myfunc(a,b):\n",
    "    return a+b\n",
    "result=list(map(myfunc,(1,2,3),(3,2,1)))\n",
    "print(result)"
   ]
  },
  {
   "cell_type": "code",
   "execution_count": 15,
   "id": "c80ee0d6",
   "metadata": {},
   "outputs": [
    {
     "name": "stdout",
     "output_type": "stream",
     "text": [
      "[5, 6, 6]\n"
     ]
    }
   ],
   "source": [
    "def myfunc(a):\n",
    "    return len(a)\n",
    "fruit=('apple', 'banana', 'cherry')\n",
    "result= map(myfunc,fruit)\n",
    "print(list(result))"
   ]
  },
  {
   "cell_type": "code",
   "execution_count": null,
   "id": "861a79bf",
   "metadata": {},
   "outputs": [],
   "source": [
    "my_list(2,3,6,11,22)\n",
    "result =(my_list*my_list)\n",
    "print(result)"
   ]
  },
  {
   "cell_type": "code",
   "execution_count": null,
   "id": "c78d3752",
   "metadata": {},
   "outputs": [],
   "source": []
  }
 ],
 "metadata": {
  "kernelspec": {
   "display_name": "Python 3 (ipykernel)",
   "language": "python",
   "name": "python3"
  },
  "language_info": {
   "codemirror_mode": {
    "name": "ipython",
    "version": 3
   },
   "file_extension": ".py",
   "mimetype": "text/x-python",
   "name": "python",
   "nbconvert_exporter": "python",
   "pygments_lexer": "ipython3",
   "version": "3.11.4"
  }
 },
 "nbformat": 4,
 "nbformat_minor": 5
}
