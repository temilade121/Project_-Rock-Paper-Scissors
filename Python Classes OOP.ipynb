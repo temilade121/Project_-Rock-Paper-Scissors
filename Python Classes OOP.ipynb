{
 "cells": [
  {
   "cell_type": "code",
   "execution_count": 55,
   "id": "f8436ad6",
   "metadata": {},
   "outputs": [],
   "source": [
    "class Parrot: # At this point we are creating or defining a class\n",
    "    species = \"Lion\"\n",
    "    def __init__(self, name, age):\n",
    "        self.name = name\n",
    "        self.age = age\n",
    "    \n",
    "    \n",
    "    def sing(self, song):\n",
    "        return \"{} sings {}\".format(self.name, song)\n",
    "    \n",
    "    \n",
    "    def dance(self):\n",
    "        return \"{} is now dancing\".format(self.name)"
   ]
  },
  {
   "cell_type": "code",
   "execution_count": 66,
   "id": "c0885112",
   "metadata": {},
   "outputs": [
    {
     "name": "stdout",
     "output_type": "stream",
     "text": [
      "Blu sings 'Sad'\n",
      "Blu is now dancing\n",
      "Blu is a Lion \n",
      "Woo is also a Lion\n",
      "Blu is 10 years old\n",
      "Woo is 15 years old\n"
     ]
    }
   ],
   "source": [
    "# Instatiate the parrot class (creating an object from the parrot class)\n",
    "bird1 = Parrot(\"Blu\", 10)\n",
    " #woo = Parrot(\"Woo\", 15)\n",
    "print(bird1.sing(\"'Sad'\"))\n",
    "print(bird1.dance())\n",
    "# accessing the class attributes\n",
    "print(\"Blu is a {} \".format(blu.__class__.species))\n",
    "print(\"Woo is also a {}\".format(woo.__class__.species))\n",
    "# access the instance attributes\n",
    "print(\"{} is {} years old\".format(blu.name, blu.age))\n",
    "print(\"{} is {} years old\".format(woo.name, woo.age))"
   ]
  },
  {
   "cell_type": "code",
   "execution_count": 57,
   "id": "097c0172",
   "metadata": {},
   "outputs": [
    {
     "name": "stdout",
     "output_type": "stream",
     "text": [
      "Blu is a {}\n",
      "Lion\n"
     ]
    }
   ],
   "source": [
    "print(\"Blu is a {}\")\n",
    "print(blu.__class__.species)"
   ]
  },
  {
   "cell_type": "code",
   "execution_count": 58,
   "id": "a175407b",
   "metadata": {},
   "outputs": [],
   "source": [
    "class Person:\n",
    "    species = \"Human\"\n",
    "    def __init__(self, colour, age, name):\n",
    "        self.name = name\n",
    "        self.age = age\n",
    "        self.colour = colour"
   ]
  },
  {
   "cell_type": "code",
   "execution_count": 59,
   "id": "7489c464",
   "metadata": {},
   "outputs": [],
   "source": [
    "person1 = Person(\"Fair\", 15,\"Timzy\")\n",
    "person2 = Person(\"Black\",16, \"Tee Star\")\n",
    "person3 = Person(\"Chocolate\", 19, \"mide gold\")\n"
   ]
  },
  {
   "cell_type": "code",
   "execution_count": 60,
   "id": "938866d7",
   "metadata": {},
   "outputs": [
    {
     "name": "stdout",
     "output_type": "stream",
     "text": [
      "Fair,15,Timzy years old\n",
      "Black,16,Tee Star years old\n",
      "Chocolate,19,mide gold years old\n"
     ]
    }
   ],
   "source": [
    "print(\"{},{},{} years old\".format(person1.colour,person1.age , person1.name))\n",
    "print(\"{},{},{} years old\".format(person2.colour,person2.age , person2.name))\n",
    "print(\"{},{},{} years old\".format(person3.colour,person3.age , person3.name))"
   ]
  },
  {
   "cell_type": "code",
   "execution_count": null,
   "id": "f081ac5e",
   "metadata": {},
   "outputs": [],
   "source": []
  }
 ],
 "metadata": {
  "kernelspec": {
   "display_name": "Python 3 (ipykernel)",
   "language": "python",
   "name": "python3"
  },
  "language_info": {
   "codemirror_mode": {
    "name": "ipython",
    "version": 3
   },
   "file_extension": ".py",
   "mimetype": "text/x-python",
   "name": "python",
   "nbconvert_exporter": "python",
   "pygments_lexer": "ipython3",
   "version": "3.11.4"
  }
 },
 "nbformat": 4,
 "nbformat_minor": 5
}
