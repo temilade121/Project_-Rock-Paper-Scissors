{
 "cells": [
  {
   "cell_type": "code",
   "execution_count": 2,
   "id": "ce9063ed",
   "metadata": {},
   "outputs": [
    {
     "ename": "TabError",
     "evalue": "inconsistent use of tabs and spaces in indentation (958345580.py, line 12)",
     "output_type": "error",
     "traceback": [
      "\u001b[1;36m  Cell \u001b[1;32mIn[2], line 12\u001b[1;36m\u001b[0m\n\u001b[1;33m    print(\"Swim faster\")\u001b[0m\n\u001b[1;37m    ^\u001b[0m\n\u001b[1;31mTabError\u001b[0m\u001b[1;31m:\u001b[0m inconsistent use of tabs and spaces in indentation\n"
     ]
    }
   ],
   "source": [
    "# parent class/superclass\n",
    "class Bird:\n",
    "    \n",
    "    def __init__(self):\n",
    "        print(\"Bird is ready\")\n",
    "\n",
    "    def whoisThis(self):\n",
    "        print(\"Bird\")\n",
    "\n",
    "\n",
    "    def swim(self):\n",
    "\t\tprint(\"Swim faster\")\n",
    "\n",
    "# child class/derivedclass\n",
    "class Penguin(Bird):\n",
    "\n",
    "    def __init__(self):\n",
    "\t\t# call super() function\n",
    "\t\tsuper().__init__()\n",
    "\t\tprint(\"Penguin is ready\")\n",
    "\n",
    "    def whoisThis(self):\n",
    "\t\tprint(\"Penguin\")\n",
    "\n",
    "    def run(self):\n",
    "\t\tprint(\"Run faster\")\n",
    "\n",
    "peggy = Penguin()\n",
    "peggy.whoisThis()\n",
    "peggy.swim()\n",
    "peggy.run()"
   ]
  },
  {
   "cell_type": "code",
   "execution_count": 7,
   "id": "49792fa8",
   "metadata": {},
   "outputs": [
    {
     "name": "stdout",
     "output_type": "stream",
     "text": [
      "Human should be able to speak\n",
      "10\n",
      "Male\n",
      "Human should be able to speak\n",
      "15\n",
      "None\n"
     ]
    }
   ],
   "source": [
    "class Human:\n",
    "    def __init__(self):\n",
    "        self.height = 0\n",
    "        self.weight = 0\n",
    "        self.gender = None\n",
    "    def speak(self):\n",
    "        print(\"Human should be able to speak\")\n",
    "    def move(self):\n",
    "        print(\"Human can move\")\n",
    "class Man(Human):\n",
    "     \n",
    "    def __init__(self, gender):\n",
    "        super().__init__()\n",
    "        self.gender = gender\n",
    "\n",
    "    def name(self,title):\n",
    "        self.title = title\n",
    "         \n",
    "      \n",
    "class Woman(Human):\n",
    "    \n",
    "    def __init__(self,gender):\n",
    "        super().__init__() \n",
    "\n",
    "    def name(self,title):\n",
    "        self.title = title   \n",
    "\n",
    "man = Man('Male') \n",
    "man.speak()   \n",
    "man.weight = 10\n",
    "print(man.weight)     \n",
    "print(man.gender)\n",
    "\n",
    "woman = Woman('Female')\n",
    "woman.speak()\n",
    "woman.weight = 15\n",
    "print(woman.weight)\n",
    "print(woman.gender)"
   ]
  },
  {
   "cell_type": "code",
   "execution_count": null,
   "id": "19fc2420",
   "metadata": {},
   "outputs": [],
   "source": []
  }
 ],
 "metadata": {
  "kernelspec": {
   "display_name": "Python 3 (ipykernel)",
   "language": "python",
   "name": "python3"
  },
  "language_info": {
   "codemirror_mode": {
    "name": "ipython",
    "version": 3
   },
   "file_extension": ".py",
   "mimetype": "text/x-python",
   "name": "python",
   "nbconvert_exporter": "python",
   "pygments_lexer": "ipython3",
   "version": "3.11.4"
  }
 },
 "nbformat": 4,
 "nbformat_minor": 5
}
