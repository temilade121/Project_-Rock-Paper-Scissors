{
 "cells": [
  {
   "cell_type": "code",
   "execution_count": 1,
   "id": "81dcb28b",
   "metadata": {},
   "outputs": [
    {
     "ename": "ModuleNotFoundError",
     "evalue": "No module named 'Functions_add'",
     "output_type": "error",
     "traceback": [
      "\u001b[1;31m---------------------------------------------------------------------------\u001b[0m",
      "\u001b[1;31mModuleNotFoundError\u001b[0m                       Traceback (most recent call last)",
      "Cell \u001b[1;32mIn[1], line 1\u001b[0m\n\u001b[1;32m----> 1\u001b[0m \u001b[38;5;28;01mfrom\u001b[39;00m \u001b[38;5;21;01mFunctions_add\u001b[39;00m \u001b[38;5;28;01mimport\u001b[39;00m add_two,Subtract_two,Divide_two,Multiply_two\n",
      "\u001b[1;31mModuleNotFoundError\u001b[0m: No module named 'Functions_add'"
     ]
    }
   ],
   "source": [
    "from Functions_add import add_two,Subtract_two,Divide_two,Multiply_two"
   ]
  },
  {
   "cell_type": "code",
   "execution_count": null,
   "id": "c9e5625e",
   "metadata": {},
   "outputs": [],
   "source": []
  }
 ],
 "metadata": {
  "kernelspec": {
   "display_name": "Python 3 (ipykernel)",
   "language": "python",
   "name": "python3"
  },
  "language_info": {
   "codemirror_mode": {
    "name": "ipython",
    "version": 3
   },
   "file_extension": ".py",
   "mimetype": "text/x-python",
   "name": "python",
   "nbconvert_exporter": "python",
   "pygments_lexer": "ipython3",
   "version": "3.11.4"
  }
 },
 "nbformat": 4,
 "nbformat_minor": 5
}
