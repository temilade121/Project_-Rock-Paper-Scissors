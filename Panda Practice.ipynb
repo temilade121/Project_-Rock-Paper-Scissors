{
 "cells": [
  {
   "cell_type": "code",
   "execution_count": 1,
   "id": "a2181d79",
   "metadata": {},
   "outputs": [
    {
     "name": "stdout",
     "output_type": "stream",
     "text": [
      "apples      NaN\n",
      "cherries    NaN\n",
      "cirese      NaN\n",
      "mere        NaN\n",
      "oranges     NaN\n",
      "pears       NaN\n",
      "pere        NaN\n",
      "portocale   NaN\n",
      "dtype: float64\n"
     ]
    }
   ],
   "source": [
    "import pandas as pd\n",
    "fruits = [\"apples\", \"oranges\", \"cherries\", \"pears\"]\n",
    "fruits_ro = [\"mere\", \"portocale\", \"cirese\", \"pere\"]\n",
    "S = pd.Series([20, 33, 52, 10], index=fruits)\n",
    "S2 = pd.Series([17, 13, 311, 32], index=fruits_ro)\n",
    "print(S+S2)"
   ]
  },
  {
   "cell_type": "code",
   "execution_count": null,
   "id": "d8916bfd",
   "metadata": {},
   "outputs": [],
   "source": []
  }
 ],
 "metadata": {
  "kernelspec": {
   "display_name": "Python 3 (ipykernel)",
   "language": "python",
   "name": "python3"
  },
  "language_info": {
   "codemirror_mode": {
    "name": "ipython",
    "version": 3
   },
   "file_extension": ".py",
   "mimetype": "text/x-python",
   "name": "python",
   "nbconvert_exporter": "python",
   "pygments_lexer": "ipython3",
   "version": "3.11.4"
  }
 },
 "nbformat": 4,
 "nbformat_minor": 5
}
