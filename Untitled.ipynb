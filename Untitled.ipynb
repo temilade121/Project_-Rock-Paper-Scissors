{
 "cells": [
  {
   "cell_type": "code",
   "execution_count": 2,
   "id": "ded5433a",
   "metadata": {
    "scrolled": true
   },
   "outputs": [
    {
     "name": "stdout",
     "output_type": "stream",
     "text": [
      "0      blue\n",
      "1    yellow\n",
      "2      pink\n",
      "3    purple\n",
      "dtype: object\n"
     ]
    }
   ],
   "source": [
    "import pandas as pd\n",
    "import numpy as pe\n",
    "array = pe.array([\"blue\", \"yellow\", \"pink\", \"purple\"])\n",
    "series1 = pd.Series(array)\n",
    "print(series1)"
   ]
  },
  {
   "cell_type": "code",
   "execution_count": 4,
   "id": "fe615b1d",
   "metadata": {},
   "outputs": [
    {
     "name": "stdout",
     "output_type": "stream",
     "text": [
      "0     19\n",
      "1    175\n",
      "2     41\n",
      "3     22\n",
      "dtype: int64\n"
     ]
    }
   ],
   "source": [
    "list = [19, 175, 41, 22]\n",
    "series2 = pd.Series(list)\n",
    "print(series2)"
   ]
  },
  {
   "cell_type": "code",
   "execution_count": 8,
   "id": "dc9cf1dd",
   "metadata": {},
   "outputs": [
    {
     "name": "stdout",
     "output_type": "stream",
     "text": [
      "pink     20\n",
      "white    15\n",
      "black     6\n",
      "blue     43\n",
      "dtype: int64\n"
     ]
    }
   ],
   "source": [
    "import pandas as pd\n",
    "color=[\"pink\", \"white\", \"black\", \"blue\"]\n",
    "occurence = [20, 15, 6, 43]\n",
    "s=pd.Series(occurence, index=color)\n",
    "print(s)"
   ]
  },
  {
   "cell_type": "code",
   "execution_count": 9,
   "id": "216b13bb",
   "metadata": {},
   "outputs": [
    {
     "name": "stdout",
     "output_type": "stream",
     "text": [
      "pink     23\n",
      "white    37\n",
      "black    15\n",
      "blue     53\n",
      "dtype: int64\n"
     ]
    }
   ],
   "source": [
    "import pandas as pd\n",
    "color=[\"pink\", \"white\", \"black\", \"blue\"]\n",
    "S1=pd.Series([20, 15, 6, 43], index=color)\n",
    "S2=pd.Series([3, 22, 9, 10],  index=color)\n",
    "print(S1+S2)"
   ]
  },
  {
   "cell_type": "code",
   "execution_count": null,
   "id": "f9b4d616",
   "metadata": {},
   "outputs": [],
   "source": []
  }
 ],
 "metadata": {
  "kernelspec": {
   "display_name": "Python 3 (ipykernel)",
   "language": "python",
   "name": "python3"
  },
  "language_info": {
   "codemirror_mode": {
    "name": "ipython",
    "version": 3
   },
   "file_extension": ".py",
   "mimetype": "text/x-python",
   "name": "python",
   "nbconvert_exporter": "python",
   "pygments_lexer": "ipython3",
   "version": "3.11.4"
  }
 },
 "nbformat": 4,
 "nbformat_minor": 5
}
