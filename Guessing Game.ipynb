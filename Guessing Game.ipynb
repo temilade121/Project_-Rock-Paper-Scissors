{
 "cells": [
  {
   "cell_type": "code",
   "execution_count": 5,
   "id": "ab7ac759",
   "metadata": {},
   "outputs": [
    {
     "name": "stdout",
     "output_type": "stream",
     "text": [
      "Hello \n",
      "my name is temi junior \n",
      "what is yours temilade\n",
      "Nice to meet you temilade\n",
      "would you love to play a game with me temilade\n",
      "i am thinking of a number between 1 and 100 and you have to guess it . what is your first guess 54\n",
      "yay,you guessed it \n",
      "Yes you got it\n"
     ]
    }
   ],
   "source": [
    "print(\"Hello \")\n",
    "print(\"my name is temi junior \")\n",
    "name = input(\"what is yours \")\n",
    "print(\"Nice to meet you\",name)\n",
    "print(\"would you love to play a game with me\",name)\n",
    "number =int(input(\"i am thinking of a number between 1 and 100 and you have to guess it . what is your first guess \"))\n",
    "if number == 54:\n",
    "    print(\"yay,you guessed it \")\n",
    "elif number < 54:\n",
    "    print(\"you have one more try\")\n",
    "    number1 =int(input(\"try your luck once more \"))\n",
    "if number == 54:\n",
    "        print(\"Yes you got it\")\n",
    "elif number < 54:\n",
    "        print(\"No. it was 54\")\n",
    "\n"
   ]
  },
  {
   "cell_type": "code",
   "execution_count": null,
   "id": "872a0732",
   "metadata": {},
   "outputs": [],
   "source": []
  }
 ],
 "metadata": {
  "kernelspec": {
   "display_name": "Python 3 (ipykernel)",
   "language": "python",
   "name": "python3"
  },
  "language_info": {
   "codemirror_mode": {
    "name": "ipython",
    "version": 3
   },
   "file_extension": ".py",
   "mimetype": "text/x-python",
   "name": "python",
   "nbconvert_exporter": "python",
   "pygments_lexer": "ipython3",
   "version": "3.11.4"
  }
 },
 "nbformat": 4,
 "nbformat_minor": 5
}
