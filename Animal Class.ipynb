{
 "cells": [
  {
   "cell_type": "code",
   "execution_count": null,
   "id": "e55bb048",
   "metadata": {},
   "outputs": [],
   "source": [
    "Class Animal:\n",
    "    species = None\n",
    "    def __init__(self,legs,move,species,Sound):\n",
    "        self.eyes = eyes\n",
    "        self.legs = legs\n",
    "    def sound(self,sound):\n",
    "        self.sound = sound\n",
    "        print(\"Animal is\" + self.sound)\n",
    "        \n",
    "class Canine:\n",
    "    def __init__(self):\n",
    "        self.teeth = 0\n",
    "        \n",
    "Class Dog(Canine,Animal):\n",
    "    def __init__(self):\n",
    "        super().__init__()\n",
    "        \n",
    "animal = Dog()\n",
    "animal.sound(\"Barking\")"
   ]
  }
 ],
 "metadata": {
  "kernelspec": {
   "display_name": "Python 3 (ipykernel)",
   "language": "python",
   "name": "python3"
  },
  "language_info": {
   "codemirror_mode": {
    "name": "ipython",
    "version": 3
   },
   "file_extension": ".py",
   "mimetype": "text/x-python",
   "name": "python",
   "nbconvert_exporter": "python",
   "pygments_lexer": "ipython3",
   "version": "3.11.4"
  }
 },
 "nbformat": 4,
 "nbformat_minor": 5
}
